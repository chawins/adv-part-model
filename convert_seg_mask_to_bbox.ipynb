{
 "cells": [
  {
   "cell_type": "code",
   "execution_count": 2,
   "metadata": {},
   "outputs": [],
   "source": [
    "import os\n",
    "from pathlib import Path\n",
    "import json\n",
    "import numpy as np\n",
    "from PIL import Image\n",
    "import matplotlib.pyplot as plt\n",
    "from coco.coco import COCO\n",
    "from itertools import chain, combinations\n",
    "import glob\n",
    "import cv2\n",
    "from skimage.measure import label, regionprops\n",
    "\n",
    "%matplotlib inline"
   ]
  },
  {
   "cell_type": "code",
   "execution_count": 20,
   "metadata": {},
   "outputs": [],
   "source": [
    "# label_dir = '/data/shared/PartImageNet/'\n",
    "label_dir = '/global/scratch/users/nabeel126/PartImageNet/'\n",
    "\n",
    "split = 'test'\n",
    "root = Path('/global/scratch/users/nabeel126/PartImageNet/PartBoxSegmentations')"
   ]
  },
  {
   "cell_type": "code",
   "execution_count": 21,
   "metadata": {},
   "outputs": [
    {
     "data": {
      "text/plain": [
       "{'Aeroplane': 5,\n",
       " 'Bicycle': 4,\n",
       " 'Biped': 5,\n",
       " 'Bird': 5,\n",
       " 'Boat': 2,\n",
       " 'Bottle': 2,\n",
       " 'Car': 3,\n",
       " 'Fish': 4,\n",
       " 'Quadruped': 4,\n",
       " 'Reptile': 4,\n",
       " 'Snake': 2}"
      ]
     },
     "execution_count": 21,
     "metadata": {},
     "output_type": "execute_result"
    }
   ],
   "source": [
    "CLASSES = {\n",
    "    \"Quadruped\": 4,\n",
    "    \"Biped\": 5,\n",
    "    \"Fish\": 4,\n",
    "    \"Bird\": 5,\n",
    "    \"Snake\": 2,\n",
    "    \"Reptile\": 4,\n",
    "    \"Car\": 3,\n",
    "    \"Bicycle\": 4,\n",
    "    \"Boat\": 2,\n",
    "    \"Aeroplane\": 5,\n",
    "    \"Bottle\": 2,\n",
    "}\n",
    "CLASSES = dict(sorted(CLASSES.items()))\n",
    "CLASSES"
   ]
  },
  {
   "cell_type": "code",
   "execution_count": 22,
   "metadata": {},
   "outputs": [],
   "source": [
    "PATHS = {\n",
    "    \"train\": (root / \"train\", root / \"image_labels\" / 'train.json', root / \"annotations\" / 'train.json'),\n",
    "    \"val\": (root / \"val\", root / \"image_labels\" / 'val.json', root / \"annotations\" / 'val.json'),\n",
    "    \"test\": (root / \"test\", root / \"image_labels\" / 'test.json', root / \"annotations\" / 'test.json' ),\n",
    "}\n",
    "\n",
    "os.makedirs(root / \"train\", exist_ok=True)\n",
    "os.makedirs(root / \"val\", exist_ok=True)\n",
    "os.makedirs(root / \"test\", exist_ok=True)\n",
    "os.makedirs(root / \"image_labels\", exist_ok=True)\n",
    "os.makedirs(root / \"annotations\", exist_ok=True)"
   ]
  },
  {
   "cell_type": "code",
   "execution_count": 23,
   "metadata": {},
   "outputs": [
    {
     "data": {
      "text/plain": [
       "[{'supercategory': 'background', 'id': 0, 'name': 'background'},\n",
       " {'supercategory': 'Aeroplane', 'id': 1, 'name': 'Aeroplane_1'},\n",
       " {'supercategory': 'Aeroplane', 'id': 2, 'name': 'Aeroplane_2'},\n",
       " {'supercategory': 'Aeroplane', 'id': 3, 'name': 'Aeroplane_3'},\n",
       " {'supercategory': 'Aeroplane', 'id': 4, 'name': 'Aeroplane_4'},\n",
       " {'supercategory': 'Aeroplane', 'id': 5, 'name': 'Aeroplane_5'},\n",
       " {'supercategory': 'Bicycle', 'id': 6, 'name': 'Bicycle_6'},\n",
       " {'supercategory': 'Bicycle', 'id': 7, 'name': 'Bicycle_7'},\n",
       " {'supercategory': 'Bicycle', 'id': 8, 'name': 'Bicycle_8'},\n",
       " {'supercategory': 'Bicycle', 'id': 9, 'name': 'Bicycle_9'},\n",
       " {'supercategory': 'Biped', 'id': 10, 'name': 'Biped_10'},\n",
       " {'supercategory': 'Biped', 'id': 11, 'name': 'Biped_11'},\n",
       " {'supercategory': 'Biped', 'id': 12, 'name': 'Biped_12'},\n",
       " {'supercategory': 'Biped', 'id': 13, 'name': 'Biped_13'},\n",
       " {'supercategory': 'Biped', 'id': 14, 'name': 'Biped_14'},\n",
       " {'supercategory': 'Bird', 'id': 15, 'name': 'Bird_15'},\n",
       " {'supercategory': 'Bird', 'id': 16, 'name': 'Bird_16'},\n",
       " {'supercategory': 'Bird', 'id': 17, 'name': 'Bird_17'},\n",
       " {'supercategory': 'Bird', 'id': 18, 'name': 'Bird_18'},\n",
       " {'supercategory': 'Bird', 'id': 19, 'name': 'Bird_19'},\n",
       " {'supercategory': 'Boat', 'id': 20, 'name': 'Boat_20'},\n",
       " {'supercategory': 'Boat', 'id': 21, 'name': 'Boat_21'},\n",
       " {'supercategory': 'Bottle', 'id': 22, 'name': 'Bottle_22'},\n",
       " {'supercategory': 'Bottle', 'id': 23, 'name': 'Bottle_23'},\n",
       " {'supercategory': 'Car', 'id': 24, 'name': 'Car_24'},\n",
       " {'supercategory': 'Car', 'id': 25, 'name': 'Car_25'},\n",
       " {'supercategory': 'Car', 'id': 26, 'name': 'Car_26'},\n",
       " {'supercategory': 'Fish', 'id': 27, 'name': 'Fish_27'},\n",
       " {'supercategory': 'Fish', 'id': 28, 'name': 'Fish_28'},\n",
       " {'supercategory': 'Fish', 'id': 29, 'name': 'Fish_29'},\n",
       " {'supercategory': 'Fish', 'id': 30, 'name': 'Fish_30'},\n",
       " {'supercategory': 'Quadruped', 'id': 31, 'name': 'Quadruped_31'},\n",
       " {'supercategory': 'Quadruped', 'id': 32, 'name': 'Quadruped_32'},\n",
       " {'supercategory': 'Quadruped', 'id': 33, 'name': 'Quadruped_33'},\n",
       " {'supercategory': 'Quadruped', 'id': 34, 'name': 'Quadruped_34'},\n",
       " {'supercategory': 'Reptile', 'id': 35, 'name': 'Reptile_35'},\n",
       " {'supercategory': 'Reptile', 'id': 36, 'name': 'Reptile_36'},\n",
       " {'supercategory': 'Reptile', 'id': 37, 'name': 'Reptile_37'},\n",
       " {'supercategory': 'Reptile', 'id': 38, 'name': 'Reptile_38'},\n",
       " {'supercategory': 'Snake', 'id': 39, 'name': 'Snake_39'},\n",
       " {'supercategory': 'Snake', 'id': 40, 'name': 'Snake_40'}]"
      ]
     },
     "execution_count": 23,
     "metadata": {},
     "output_type": "execute_result"
    }
   ],
   "source": [
    "categories_json = []\n",
    "\n",
    "part_id = 0\n",
    "categories_json.append(\n",
    "    {'supercategory': 'background',\n",
    "    'id': 0,\n",
    "    'name': 'background'}\n",
    ")\n",
    "part_id += 1\n",
    "\n",
    "for part_imagenet_class in CLASSES:\n",
    "    for id in range(CLASSES[part_imagenet_class]):\n",
    "        categories_json.append(\n",
    "            {'supercategory': part_imagenet_class,\n",
    "            'id': part_id,\n",
    "            'name': f'{part_imagenet_class}_{part_id}'}\n",
    "        )\n",
    "        part_id += 1\n",
    "categories_json"
   ]
  },
  {
   "cell_type": "code",
   "execution_count": 24,
   "metadata": {},
   "outputs": [
    {
     "name": "stdout",
     "output_type": "stream",
     "text": [
      "part_imagenet_class Aeroplane\n",
      "part_imagenet_class Bicycle\n",
      "part_imagenet_class Biped\n",
      "part_imagenet_class Bird\n",
      "part_imagenet_class Boat\n",
      "part_imagenet_class Bottle\n",
      "part_imagenet_class Car\n",
      "part_imagenet_class Fish\n",
      "part_imagenet_class Quadruped\n",
      "part_imagenet_class Reptile\n",
      "part_imagenet_class Snake\n"
     ]
    }
   ],
   "source": [
    "images_json = []\n",
    "annotations_json = []\n",
    "\n",
    "image_to_label = {}\n",
    "\n",
    "global_image_id = 0\n",
    "for class_label, part_imagenet_class in enumerate(CLASSES):\n",
    "    print('part_imagenet_class', part_imagenet_class)\n",
    "    # get filenames of all segmentation masks\n",
    "    seg_label_path = os.path.join(label_dir, f'PartSegmentations/All/{split}/{part_imagenet_class}/*.tif')\n",
    "    seg_filenames = glob.glob(seg_label_path)\n",
    "\n",
    "    for filename in seg_filenames:\n",
    "        # load segmentation\n",
    "        im = Image.open(filename)\n",
    "        width, height = im.size\n",
    "        imarray = np.array(im)\n",
    "\n",
    "        image_name = filename.split('/')[-1]\n",
    "        image_id = image_name[:-4]    \n",
    "\n",
    "        jpeg_image_name = image_id + '.JPEG'\n",
    "        folder_id = image_id.split('_')[0]\n",
    "\n",
    "        images_json.append({\n",
    "            'file_name': f'{folder_id}/{jpeg_image_name}',\n",
    "            'height': height,\n",
    "            'width': width,\n",
    "            'id': global_image_id\n",
    "            })\n",
    "\n",
    "        image_to_label[global_image_id] = class_label\n",
    "\n",
    "        # get unique labels\n",
    "        image_labels = list(np.unique(imarray))\n",
    "        \n",
    "        # remove background class\n",
    "        if 0 in image_labels:\n",
    "            image_labels.remove(0)\n",
    "\n",
    "        assert len(image_labels) <= CLASSES[part_imagenet_class]\n",
    "\n",
    "        for index, part_label in enumerate(image_labels):            \n",
    "            # get sementation mask for object_id\n",
    "            mask = (imarray == part_label) * 1\n",
    "            mask = np.uint8(mask)\n",
    "\n",
    "            lbl_0, num_regions = label(mask, return_num=True, connectivity=1) \n",
    "            props = regionprops(lbl_0)\n",
    "\n",
    "            label_txt_lines = []\n",
    "            for prop_index, prop in enumerate(props):\n",
    "                min_row, min_col, max_row, max_col = prop.bbox\n",
    "\n",
    "                bbox_width = max_col - min_col\n",
    "                bbox_height = max_row - min_row\n",
    "\n",
    "                cur_part_bbox = [min_col, min_row, bbox_width, bbox_height]\n",
    "\n",
    "                annotations_json.append({\n",
    "                    'image_id': global_image_id,\n",
    "                    'bbox': cur_part_bbox,\n",
    "                    'category_id': int(part_label),\n",
    "                    'id': f'{image_id}_{index}_{prop_index}',\n",
    "                    'area': bbox_width * bbox_height,\n",
    "                    'is_crowd': 0\n",
    "                })\n",
    "        global_image_id += 1"
   ]
  },
  {
   "cell_type": "code",
   "execution_count": 25,
   "metadata": {},
   "outputs": [
    {
     "name": "stdout",
     "output_type": "stream",
     "text": [
      "/global/scratch/users/nabeel126/PartImageNet/PartBoxSegmentations/image_labels/test.json\n"
     ]
    }
   ],
   "source": [
    "# Serializing json\n",
    "json_object = json.dumps(image_to_label, indent=4)\n",
    "print(PATHS[split][1])\n",
    "with open(PATHS[split][1], \"w\") as outfile:\n",
    "    outfile.write(json_object)\n",
    "    "
   ]
  },
  {
   "cell_type": "code",
   "execution_count": 26,
   "metadata": {},
   "outputs": [],
   "source": [
    "part_imagenet_bbox_json = {\n",
    "    'images': images_json,\n",
    "    'annotations': annotations_json,\n",
    "    'categories_json': categories_json\n",
    "}\n",
    "\n",
    "# Serializing json\n",
    "json_object = json.dumps(part_imagenet_bbox_json, indent=4)\n",
    " \n",
    "with open(PATHS[split][2], \"w\") as outfile:\n",
    "    outfile.write(json_object)\n",
    "    "
   ]
  },
  {
   "cell_type": "code",
   "execution_count": null,
   "metadata": {},
   "outputs": [],
   "source": []
  },
  {
   "cell_type": "code",
   "execution_count": null,
   "metadata": {},
   "outputs": [],
   "source": []
  },
  {
   "cell_type": "code",
   "execution_count": null,
   "metadata": {},
   "outputs": [],
   "source": []
  },
  {
   "cell_type": "code",
   "execution_count": null,
   "metadata": {},
   "outputs": [],
   "source": []
  },
  {
   "cell_type": "code",
   "execution_count": 6,
   "metadata": {},
   "outputs": [],
   "source": [
    "# Opening JSON file\n",
    "with open(PATHS[split][1], 'r') as openfile:\n",
    "    json_object = json.load(openfile)"
   ]
  },
  {
   "cell_type": "code",
   "execution_count": 9,
   "metadata": {},
   "outputs": [
    {
     "data": {
      "text/plain": [
       "8"
      ]
     },
     "execution_count": 9,
     "metadata": {},
     "output_type": "execute_result"
    }
   ],
   "source": [
    "json_object[str(8526)]"
   ]
  },
  {
   "cell_type": "code",
   "execution_count": 23,
   "metadata": {},
   "outputs": [
    {
     "ename": "ModuleNotFoundError",
     "evalue": "No module named 'panoptic_parts.utils.panoptic_parts'",
     "output_type": "error",
     "traceback": [
      "\u001b[0;31m---------------------------------------------------------------------------\u001b[0m",
      "\u001b[0;31mModuleNotFoundError\u001b[0m                       Traceback (most recent call last)",
      "\u001b[1;32m/home/nab_126/adv-part-model/convert_seg_mask_to_bbox.ipynb Cell 10\u001b[0m in \u001b[0;36m<cell line: 1>\u001b[0;34m()\u001b[0m\n\u001b[0;32m----> <a href='vscode-notebook-cell://ssh-remote%2Breds/home/nab_126/adv-part-model/convert_seg_mask_to_bbox.ipynb#Y135sdnNjb2RlLXJlbW90ZQ%3D%3D?line=0'>1</a>\u001b[0m \u001b[39mfrom\u001b[39;00m \u001b[39mpart_model\u001b[39;00m\u001b[39m.\u001b[39;00m\u001b[39mdataloader\u001b[39;00m\u001b[39m.\u001b[39;00m\u001b[39mpart_imagenet\u001b[39;00m \u001b[39mimport\u001b[39;00m PartImageNetBBOXDataset\n\u001b[1;32m      <a href='vscode-notebook-cell://ssh-remote%2Breds/home/nab_126/adv-part-model/convert_seg_mask_to_bbox.ipynb#Y135sdnNjb2RlLXJlbW90ZQ%3D%3D?line=2'>3</a>\u001b[0m img_folder, class_label_file, ann_file \u001b[39m=\u001b[39m PATHS[\u001b[39m'\u001b[39m\u001b[39mtrain\u001b[39m\u001b[39m'\u001b[39m]\n\u001b[1;32m      <a href='vscode-notebook-cell://ssh-remote%2Breds/home/nab_126/adv-part-model/convert_seg_mask_to_bbox.ipynb#Y135sdnNjb2RlLXJlbW90ZQ%3D%3D?line=3'>4</a>\u001b[0m \u001b[39mprint\u001b[39m(img_folder, class_label_file, ann_file)\n",
      "File \u001b[0;32m~/adv-part-model/part_model/dataloader/__init__.py:3\u001b[0m, in \u001b[0;36m<module>\u001b[0;34m\u001b[0m\n\u001b[1;32m      1\u001b[0m \u001b[39mfrom\u001b[39;00m \u001b[39m.\u001b[39;00m\u001b[39mpart_imagenet_corrupt\u001b[39;00m \u001b[39mimport\u001b[39;00m PART_IMAGENET_CORRUPT\n\u001b[1;32m      2\u001b[0m \u001b[39mfrom\u001b[39;00m \u001b[39m.\u001b[39;00m\u001b[39mpart_imagenet_mixed_next\u001b[39;00m \u001b[39mimport\u001b[39;00m PART_IMAGENET_MIXED\n\u001b[0;32m----> 3\u001b[0m \u001b[39mfrom\u001b[39;00m \u001b[39m.\u001b[39;00m\u001b[39mcityscapes\u001b[39;00m \u001b[39mimport\u001b[39;00m CITYSCAPES\n\u001b[1;32m      4\u001b[0m \u001b[39mfrom\u001b[39;00m \u001b[39m.\u001b[39;00m\u001b[39mpart_imagenet\u001b[39;00m \u001b[39mimport\u001b[39;00m PART_IMAGENET, PART_IMAGENET_BBOX\n\u001b[1;32m      5\u001b[0m \u001b[39mfrom\u001b[39;00m \u001b[39m.\u001b[39;00m\u001b[39mpart_imagenet_geirhos\u001b[39;00m \u001b[39mimport\u001b[39;00m PART_IMAGENET_GEIRHOS\n",
      "File \u001b[0;32m~/adv-part-model/part_model/dataloader/cityscapes.py:12\u001b[0m, in \u001b[0;36m<module>\u001b[0;34m\u001b[0m\n\u001b[1;32m     10\u001b[0m \u001b[39mimport\u001b[39;00m \u001b[39mtorch\u001b[39;00m\n\u001b[1;32m     11\u001b[0m \u001b[39mimport\u001b[39;00m \u001b[39mtorch\u001b[39;00m\u001b[39m.\u001b[39;00m\u001b[39mutils\u001b[39;00m\u001b[39m.\u001b[39;00m\u001b[39mdata\u001b[39;00m \u001b[39mas\u001b[39;00m \u001b[39mdata\u001b[39;00m\n\u001b[0;32m---> 12\u001b[0m \u001b[39mfrom\u001b[39;00m \u001b[39mpanoptic_parts\u001b[39;00m\u001b[39m.\u001b[39;00m\u001b[39mutils\u001b[39;00m\u001b[39m.\u001b[39;00m\u001b[39mformat\u001b[39;00m \u001b[39mimport\u001b[39;00m decode_uids\n\u001b[1;32m     13\u001b[0m \u001b[39mfrom\u001b[39;00m \u001b[39mpart_model\u001b[39;00m\u001b[39m.\u001b[39;00m\u001b[39mdataloader\u001b[39;00m\u001b[39m.\u001b[39;00m\u001b[39mutil\u001b[39;00m \u001b[39mimport\u001b[39;00m COLORMAP\n\u001b[1;32m     14\u001b[0m \u001b[39mfrom\u001b[39;00m \u001b[39mpart_model\u001b[39;00m\u001b[39m.\u001b[39;00m\u001b[39mutils\u001b[39;00m \u001b[39mimport\u001b[39;00m get_seg_type, np_temp_seed\n",
      "File \u001b[0;32m~/adv-part-model/panoptic_parts/utils/format.py:11\u001b[0m, in \u001b[0;36m<module>\u001b[0;34m\u001b[0m\n\u001b[1;32m      9\u001b[0m \u001b[39mimport\u001b[39;00m \u001b[39mnumpy\u001b[39;00m \u001b[39mas\u001b[39;00m \u001b[39mnp\u001b[39;00m\n\u001b[1;32m     10\u001b[0m \u001b[39mimport\u001b[39;00m \u001b[39mtorch\u001b[39;00m\n\u001b[0;32m---> 11\u001b[0m \u001b[39mfrom\u001b[39;00m \u001b[39mpanoptic_parts\u001b[39;00m\u001b[39m.\u001b[39;00m\u001b[39mspecs\u001b[39;00m\u001b[39m.\u001b[39;00m\u001b[39mdataset_spec\u001b[39;00m \u001b[39mimport\u001b[39;00m DatasetSpec\n\u001b[1;32m     12\u001b[0m \u001b[39mfrom\u001b[39;00m \u001b[39mpanoptic_parts\u001b[39;00m\u001b[39m.\u001b[39;00m\u001b[39mutils\u001b[39;00m\u001b[39m.\u001b[39;00m\u001b[39mutils\u001b[39;00m \u001b[39mimport\u001b[39;00m \\\n\u001b[1;32m     13\u001b[0m     _sparse_ids_mapping_to_dense_ids_mapping \u001b[39mas\u001b[39;00m ndarray_from_dict\n\u001b[1;32m     14\u001b[0m \u001b[39mfrom\u001b[39;00m \u001b[39mpanoptic_parts\u001b[39;00m\u001b[39m.\u001b[39;00m\u001b[39mutils\u001b[39;00m\u001b[39m.\u001b[39;00m\u001b[39mutils\u001b[39;00m \u001b[39mimport\u001b[39;00m compare_pixelwise\n",
      "\u001b[0;31mModuleNotFoundError\u001b[0m: No module named 'panoptic_parts.utils.panoptic_parts'"
     ]
    }
   ],
   "source": [
    "from part_model.dataloader.part_imagenet import PartImageNetBBOXDataset\n",
    "\n",
    "img_folder, class_label_file, ann_file = PATHS[split]\n",
    "print(img_folder, class_label_file, ann_file)\n",
    "# dataset = PartImageNetBBOXDataset(\n",
    "#         img_folder, \n",
    "#         ann_file, \n",
    "#         transforms=None, \n",
    "#         return_masks=False,\n",
    "#         aux_target_hacks=aux_target_hacks_list\n",
    "#     )"
   ]
  },
  {
   "cell_type": "code",
   "execution_count": 6,
   "metadata": {},
   "outputs": [
    {
     "name": "stderr",
     "output_type": "stream",
     "text": [
      "/home/nab_126/miniconda3/envs/env/lib/python3.8/site-packages/tqdm/auto.py:22: TqdmWarning: IProgress not found. Please update jupyter and ipywidgets. See https://ipywidgets.readthedocs.io/en/stable/user_install.html\n",
      "  from .autonotebook import tqdm as notebook_tqdm\n"
     ]
    },
    {
     "name": "stdout",
     "output_type": "stream",
     "text": [
      "/data/shared/PartImageNet/PartBoxSegmentations/train /data/shared/PartImageNet/PartBoxSegmentations/annotations/train.json\n",
      "loading annotations into memory...\n",
      "Done (t=0.30s)\n",
      "creating index...\n",
      "index created!\n"
     ]
    }
   ],
   "source": [
    "from DINO.datasets.coco import CocoDetection\n",
    "# dataset = CocoDetection(img_folder, ann_file, \n",
    "#         transforms=make_coco_transforms(image_set, fix_size=args.fix_size, strong_aug=strong_aug, args=args), \n",
    "#         return_masks=False,\n",
    "#         aux_target_hacks=aux_target_hacks_list,\n",
    "#     )\n",
    "\n",
    "img_folder, ann_file = PATHS[split]\n",
    "print(img_folder, ann_file)\n",
    "dataset = CocoDetection(img_folder, ann_file, \n",
    "        transforms=None, \n",
    "        return_masks=False,\n",
    "        aux_target_hacks=aux_target_hacks_list\n",
    "    )"
   ]
  },
  {
   "cell_type": "code",
   "execution_count": 7,
   "metadata": {},
   "outputs": [
    {
     "name": "stdout",
     "output_type": "stream",
     "text": [
      "[28, 271, 178, 80]\n",
      "[205, 248, 525, 101]\n",
      "[301, 190, 151, 81]\n",
      "[633, 268, 134, 22]\n",
      "[248, 325, 368, 70]\n",
      "[585, 151, 167, 106]\n"
     ]
    }
   ],
   "source": [
    "for obj in json_object['annotations']:\n",
    "    if obj['image_id'] == 0:\n",
    "        # print(obj)\n",
    "        print(obj['bbox'])"
   ]
  }
 ],
 "metadata": {
  "kernelspec": {
   "display_name": "env",
   "language": "python",
   "name": "env"
  },
  "language_info": {
   "codemirror_mode": {
    "name": "ipython",
    "version": 3
   },
   "file_extension": ".py",
   "mimetype": "text/x-python",
   "name": "python",
   "nbconvert_exporter": "python",
   "pygments_lexer": "ipython3",
   "version": "3.8.13"
  },
  "vscode": {
   "interpreter": {
    "hash": "444e4357c308606907a6aa476ea86787ef42b9d90bad2f45ef86935ccdec84ae"
   }
  }
 },
 "nbformat": 4,
 "nbformat_minor": 2
}
